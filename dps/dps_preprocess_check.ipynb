{
 "cells": [
  {
   "cell_type": "code",
   "execution_count": 2,
   "metadata": {},
   "outputs": [],
   "source": [
    "import json\n",
    "import os\n",
    "import re\n",
    "from collections import defaultdict\n",
    "\n",
    "import sys\n",
    "\n",
    "# 필요한 경로 추가\n",
    "base_path = '/home/seonghee_hong/legal_llm/dps'\n",
    "sys.path.append(f'{base_path}/dps/spark')\n",
    "sys.path.append(f'{base_path}/dps/spark/jobs')\n",
    "\n",
    "from jobs.korean_job import *\n",
    "from jobs.dedup_job import *\n",
    "from prep.dedup_prep import *"
   ]
  },
  {
   "cell_type": "code",
   "execution_count": 3,
   "metadata": {},
   "outputs": [
    {
     "name": "stdout",
     "output_type": "stream",
     "text": [
      "After make_compat: 이것은 테스트용 샘플 텍스트입니다. 1234와 같은 숫자 혹은 특수기호 *!@# 등이 포함될 수 있습니다.\n",
      "Bad words filter result: True\n",
      "Document length filter result: True\n",
      "Mean word length filter result: True\n",
      "Symbol to word ratio filter result: True\n",
      "Bullet and ellipsis filter result: True\n",
      "Korean word ratio filter result: True\n",
      "Preprocessed text: 이것은 테스트용 샘플 텍스트입니다. 1234와 같은 숫자 혹은 특수기호 *!@# 등이 포함될 수 있습니다.\n"
     ]
    }
   ],
   "source": [
    "# 테스트를 위한 샘플 텍스트\n",
    "sample_text = \"이것은 테스트용 샘플 텍스트입니다. 1234와 같은 숫자 혹은 특수기호 *!@# 등이 포함될 수 있습니다.\"\n",
    "\n",
    "# make_compat() 함수 테스트\n",
    "compat_text = make_compat(sample_text)\n",
    "print(\"After make_compat:\", compat_text)\n",
    "\n",
    "# bad_words_filter() 함수 테스트\n",
    "bad_words_result = bad_words_filter(compat_text)\n",
    "print(\"Bad words filter result:\", bad_words_result)\n",
    "\n",
    "# doc_len_filter() 함수 테스트\n",
    "doc_len_result = doc_len_filter(compat_text, 10, 500)  # 예시로 최소 길이 10, 최대 길이 500 설정\n",
    "print(\"Document length filter result:\", doc_len_result)\n",
    "\n",
    "# mean_word_len_filter() 함수 테스트\n",
    "mean_word_len_result = mean_word_len_filter(compat_text, 2, 10)  # 예시로 최소 평균 단어 길이 2, 최대 10 설정\n",
    "print(\"Mean word length filter result:\", mean_word_len_result)\n",
    "\n",
    "# symbol_to_word_ratio_filter() 함수 테스트\n",
    "symbol_to_word_ratio_result = symbol_to_word_ratio_filter(compat_text, 0.1)  # 예시로 비율 0.1 설정\n",
    "print(\"Symbol to word ratio filter result:\", symbol_to_word_ratio_result)\n",
    "\n",
    "# bullet_ellipsis_filter() 함수 테스트\n",
    "bullet_ellipsis_result = bullet_ellipsis_filter(compat_text, 0.05, 0.05)  # 예시로 비율 각각 0.05 설정\n",
    "print(\"Bullet and ellipsis filter result:\", bullet_ellipsis_result)\n",
    "\n",
    "# korean_word_ratio_filter() 함수 테스트\n",
    "korean_word_ratio_result = korean_word_ratio_filter(compat_text, 0.5)  # 예시로 한국어 비율 0.5 설정\n",
    "print(\"Korean word ratio filter result:\", korean_word_ratio_result)\n",
    "\n",
    "# preprocess_text() 함수 테스트\n",
    "preprocessed_text = preprocess_text(compat_text)\n",
    "print(\"Preprocessed text:\", preprocessed_text)"
   ]
  },
  {
   "cell_type": "code",
   "execution_count": 4,
   "metadata": {},
   "outputs": [
    {
     "name": "stdout",
     "output_type": "stream",
     "text": [
      "Total CASE data after first deduplication: 192730\n",
      "Total NON-CASE data after first deduplication: 231179\n"
     ]
    }
   ],
   "source": [
    "### Load Sample Data\n",
    "import json\n",
    "import random\n",
    "\n",
    "# Fix Random Seed\n",
    "random.seed(42)\n",
    "\n",
    "with open('/data/llmlaw/FIRST_DEDUPLICATION/Domain/CASE-LAW/deduplication.jsonl', 'r') as f:\n",
    "    case_data_og = [json.loads(line) for line in f]\n",
    "\n",
    "with open('/data/llmlaw/FIRST_DEDUPLICATION/Domain/NON-CASE-LAW/deduplication.jsonl', 'r') as f:\n",
    "    non_case_data_og = [json.loads(line) for line in f]\n",
    "\n",
    "print(\"Total CASE data after first deduplication:\", len(case_data_og))\n",
    "print(\"Total NON-CASE data after first deduplication:\", len(non_case_data_og))\n",
    "\n",
    "# Random Sample\n",
    "case_sample = random.sample(case_data_og, 20000)\n",
    "non_case_sample = random.sample(non_case_data_og, 20000)"
   ]
  },
  {
   "cell_type": "markdown",
   "metadata": {},
   "source": [
    "### DPS 상에서 코드 전처리 파이프라인과 동일하게 Chaining 방식으로 테스트"
   ]
  },
  {
   "cell_type": "code",
   "execution_count": 5,
   "metadata": {},
   "outputs": [],
   "source": [
    "# Text만 추출\n",
    "case_text = [case['text'] for case in case_sample]\n",
    "non_case_text = [non_case['text'] for non_case in non_case_sample]"
   ]
  },
  {
   "cell_type": "code",
   "execution_count": null,
   "metadata": {},
   "outputs": [],
   "source": [
    "# 테스트를 위한 샘플 텍스트\n",
    "sample_text = \"이것은 테스트용 샘플 텍스트입니다. 1234와 같은 숫자 혹은 특수기호 *!@# 등이 포함될 수 있습니다.\"\n",
    "\n",
    "# make_compat() 함수 테스트\n",
    "compat_text = make_compat(sample_text)\n",
    "print(\"After make_compat:\", compat_text)\n",
    "\n",
    "# bad_words_filter() 함수 테스트\n",
    "\"\"\"Drop text that contains bad words\"\"\"\n",
    "if bad_words_filter(compat_text):\n",
    "    print(\"Passed bad words filter\")\n",
    "else:\n",
    "    print(\"Failed bad words filter\")\n",
    "    # 필터에 실패한 경우, 테스트 중단\n",
    "    compat_text = None\n",
    "\n",
    "# doc_len_filter() 함수 테스트, 통과 시 계속 진행\n",
    "\"\"\"Filter any doc that does not contain between min_doc_len and max_doc_len words\"\"\"\n",
    "if compat_text and doc_len_filter(compat_text, min_doc_len=36, max_doc_len=299675):  # 최소 길이 10, 최대 길이 500\n",
    "    print(\"Passed document length filter\")\n",
    "else:\n",
    "    print(\"Failed document length filter\")\n",
    "    compat_text = None\n",
    "\n",
    "# mean_word_len_filter() 함수 테스트\n",
    "\"\"\"Filter any doc whose mean word length is outside the range of min_word_len to max_word_len characters\"\"\"\n",
    "if compat_text and mean_word_len_filter(compat_text, 2, 10):  # 최소 평균 단어 길이 2, 최대 10\n",
    "    print(\"Passed mean word length filter\")\n",
    "else:\n",
    "    print(\"Failed mean word length filter\")\n",
    "    compat_text = None\n",
    "\n",
    "# symbol_to_word_ratio_filter() 함수 테스트 # TODO [08.13] In Progress\n",
    "\"\"\"Filter any doc with a symbol-to-word ratio greater than symbol_to_word_ratio for either the hash symbol or the\n",
    "ellipsis\"\"\"\n",
    "if compat_text and symbol_to_word_ratio_filter(compat_text, symbol_to_word_ratio=0.1):  # 비율 0.1 설정\n",
    "    print(\"Passed symbol to word ratio filter\")\n",
    "else:\n",
    "    print(\"Failed symbol to word ratio filter\")\n",
    "    compat_text = None\n",
    "\n",
    "# bullet_ellipsis_filter() 함수 테스트\n",
    "\"\"\"Filter any doc with more than bullet_point_ratio of lines starting with a bullet point, or more than\n",
    "ellipsis_ratio ending with an ellipsis\"\"\"\n",
    "if compat_text and bullet_ellipsis_filter(compat_text, bullet_point_ratio=0.05, ellipsis_ratio=0.05):  # 비율 각각 0.05 설정\n",
    "    print(\"Passed bullet and ellipsis filter\")\n",
    "else:\n",
    "    print(\"Failed bullet and ellipsis filter\")\n",
    "    compat_text = None\n",
    "\n",
    "# korean_word_ratio_filter() 함수 테스트\n",
    "\"\"\"Filter any doc with a Korean word ratio less than korean_word_ratio\"\"\"\n",
    "if compat_text and korean_word_ratio_filter(compat_text, korean_word_ratio=0.5):  # 한국어 비율 0.5 설정\n",
    "    print(\"Passed Korean word ratio filter\")\n",
    "else:\n",
    "    print(\"Failed Korean word ratio filter\")\n",
    "    compat_text = None\n",
    "\n",
    "# preprocess_text() 함수 테스트\n",
    "\"\"\"아래 함수들을 실행함\n",
    "    processing_function_list = [\n",
    "        process_html_and_uri_text,\n",
    "        reduce_emoticon,\n",
    "        remove_whitespace,\n",
    "        replace_email_and_url,\n",
    "        replace_korean_pii,\n",
    "        spam_words_filter,\n",
    "        remove_html_tags,\n",
    "        remove_repeated_text,\n",
    "    ]\n",
    "\"\"\"\n",
    "\n",
    "if compat_text:\n",
    "    preprocessed_text = preprocess_text(compat_text)\n",
    "    print(\"Preprocessed text:\", preprocessed_text)\n",
    "else:\n",
    "    print(\"Text did not pass the filters, preprocessing skipped.\")\n"
   ]
  }
 ],
 "metadata": {
  "kernelspec": {
   "display_name": "Python (dps)",
   "language": "python",
   "name": "dps"
  },
  "language_info": {
   "codemirror_mode": {
    "name": "ipython",
    "version": 3
   },
   "file_extension": ".py",
   "mimetype": "text/x-python",
   "name": "python",
   "nbconvert_exporter": "python",
   "pygments_lexer": "ipython3",
   "version": "3.8.19"
  }
 },
 "nbformat": 4,
 "nbformat_minor": 2
}
